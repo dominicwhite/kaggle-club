{
  "nbformat": 4,
  "nbformat_minor": 0,
  "metadata": {
    "colab": {
      "name": "python4ml.ipynb",
      "provenance": [],
      "collapsed_sections": [],
      "authorship_tag": "ABX9TyMq1zHeUYMeaoq4vTZyoHRi"
    },
    "kernelspec": {
      "name": "python3",
      "display_name": "Python 3"
    }
  },
  "cells": [
    {
      "cell_type": "markdown",
      "metadata": {
        "id": "qN-7IHQNqo0n",
        "colab_type": "text"
      },
      "source": [
        "This notebook is a very basic introduction to the NumPy, Pandas, and Scikit-Learn libraries, which form the basics of any data analysis in Python.\n",
        "\n",
        "To learn more about these libraries, try the official tutorials for each one:\n",
        "\n",
        "*   [NumPy basics](https://numpy.org/devdocs/user/quickstart.html)\n",
        "*   [Pandas in 10 minutes](https://pandas.pydata.org/pandas-docs/stable/getting_started/10min.html)\n",
        "*   [Scikit-learn official tutorial](https://scikit-learn.org/stable/tutorial/index.html)\n",
        "\n"
      ]
    },
    {
      "cell_type": "markdown",
      "metadata": {
        "id": "yRjGGPJQeL3E",
        "colab_type": "text"
      },
      "source": [
        "# NumPy\n",
        "\n",
        "NumPy is a library for handling *multidimensional arrays* (i.e. matrices).\n",
        "\n",
        "This, in turn, lets us do things like linear algebra, which is a key part of most machine learning and scientific computing."
      ]
    },
    {
      "cell_type": "markdown",
      "metadata": {
        "id": "t3-kzU6Ke3N9",
        "colab_type": "text"
      },
      "source": [
        "## What is an array/matrix?"
      ]
    },
    {
      "cell_type": "code",
      "metadata": {
        "id": "2_1WFruAfNil",
        "colab_type": "code",
        "colab": {}
      },
      "source": [
        "# Numbers in Python:\n",
        "n = 5\n",
        "\n",
        "n * n"
      ],
      "execution_count": null,
      "outputs": []
    },
    {
      "cell_type": "code",
      "metadata": {
        "id": "RlFIDFBse2YJ",
        "colab_type": "code",
        "colab": {}
      },
      "source": [
        "# A Python list:\n",
        "l = [1,2,3]\n",
        "\n",
        "l"
      ],
      "execution_count": null,
      "outputs": []
    },
    {
      "cell_type": "code",
      "metadata": {
        "id": "B9l5knDcfBe7",
        "colab_type": "code",
        "colab": {}
      },
      "source": [
        "#A Python list of lists:\n",
        "lol = [\n",
        "       [1,2,3],\n",
        "       [4,5,6],\n",
        "       [7,8,9]\n",
        "]\n",
        "\n",
        "lol"
      ],
      "execution_count": null,
      "outputs": []
    },
    {
      "cell_type": "markdown",
      "metadata": {
        "id": "fP6fUzJgfbPd",
        "colab_type": "text"
      },
      "source": [
        "However, we cannot do much math with lists of numbers (or lists of lists of numbers).\n",
        "\n",
        "#### Exercise\n",
        "\n",
        "For example try adding or multiplying `l` or `lol` by themselves:\n",
        "\n",
        "```python\n",
        "l + l\n",
        "\n",
        "l * l\n",
        "```"
      ]
    },
    {
      "cell_type": "markdown",
      "metadata": {
        "id": "iLbFdlzYf_n9",
        "colab_type": "text"
      },
      "source": [
        "## Creating arrays in NumPy\n",
        "\n",
        "We need to import the `numpy` library. We usually abbreviate it as `np` for convenience."
      ]
    },
    {
      "cell_type": "code",
      "metadata": {
        "id": "D21tqcP1fiNw",
        "colab_type": "code",
        "colab": {}
      },
      "source": [
        "import numpy as np"
      ],
      "execution_count": null,
      "outputs": []
    },
    {
      "cell_type": "code",
      "metadata": {
        "id": "Vr2SvmFBgNoe",
        "colab_type": "code",
        "colab": {}
      },
      "source": [
        "# A 1 dimensional array:\n",
        "\n",
        "array_1d = np.array(l)\n",
        "\n",
        "array_1d"
      ],
      "execution_count": null,
      "outputs": []
    },
    {
      "cell_type": "code",
      "metadata": {
        "id": "8Szw-IWxgXZE",
        "colab_type": "code",
        "colab": {}
      },
      "source": [
        "array_1d * array_1d"
      ],
      "execution_count": null,
      "outputs": []
    },
    {
      "cell_type": "code",
      "metadata": {
        "id": "JZosqZAHgm3k",
        "colab_type": "code",
        "colab": {}
      },
      "source": [
        "# A 2 dimensional array\n",
        "\n",
        "array_2d = np.array(lol)\n",
        "\n",
        "array_2d"
      ],
      "execution_count": null,
      "outputs": []
    },
    {
      "cell_type": "code",
      "metadata": {
        "id": "id698tRzg5Tk",
        "colab_type": "code",
        "colab": {}
      },
      "source": [
        "array_2d * array_2d"
      ],
      "execution_count": null,
      "outputs": []
    },
    {
      "cell_type": "markdown",
      "metadata": {
        "id": "8kGBNuPShBUR",
        "colab_type": "text"
      },
      "source": [
        "## Creating arrays\n",
        "\n",
        "Of ones, zeros, and random numbers"
      ]
    },
    {
      "cell_type": "code",
      "metadata": {
        "id": "oXZqF-vLhH3e",
        "colab_type": "code",
        "colab": {}
      },
      "source": [
        "# An array of 1's\n",
        "\n",
        "np.ones((2,4))"
      ],
      "execution_count": null,
      "outputs": []
    },
    {
      "cell_type": "code",
      "metadata": {
        "id": "qlKbsEP8hVHW",
        "colab_type": "code",
        "colab": {}
      },
      "source": [
        "# An array of 0's\n",
        "\n",
        "np.zeros((4,2))"
      ],
      "execution_count": null,
      "outputs": []
    },
    {
      "cell_type": "code",
      "metadata": {
        "id": "yP0od3Blhir6",
        "colab_type": "code",
        "colab": {}
      },
      "source": [
        "# An array of random numbers\n",
        "\n",
        "np.random.random((3,3))"
      ],
      "execution_count": null,
      "outputs": []
    },
    {
      "cell_type": "code",
      "metadata": {
        "id": "YhkX1LEhhyE9",
        "colab_type": "code",
        "colab": {}
      },
      "source": [
        "# Or if we want just integers\n",
        "\n",
        "np.random.randint(0,10, size = (2,3))"
      ],
      "execution_count": null,
      "outputs": []
    },
    {
      "cell_type": "markdown",
      "metadata": {
        "id": "lnprQOluiNNq",
        "colab_type": "text"
      },
      "source": [
        "## Indexing into NumPy arrays\n",
        "\n",
        "We index (get a specific value) using the square bracket notation:\n",
        "\n",
        "`array_2d[row_index, column_index]`\n",
        "\n",
        "Don't forget that Python is *zero-indexed* i.e. we refer to the first row/column as 0"
      ]
    },
    {
      "cell_type": "code",
      "metadata": {
        "id": "C3l9eqPUiMz0",
        "colab_type": "code",
        "colab": {}
      },
      "source": [
        "print(array_2d)\n",
        "\n",
        "print(array_2d[2,2])"
      ],
      "execution_count": null,
      "outputs": []
    },
    {
      "cell_type": "markdown",
      "metadata": {
        "id": "rDLLoQOUi50w",
        "colab_type": "text"
      },
      "source": [
        "#### Exercise\n",
        "\n",
        "How would you retrieve the 3 from `array_2d`?"
      ]
    },
    {
      "cell_type": "code",
      "metadata": {
        "id": "GPtUc24kjF5U",
        "colab_type": "code",
        "colab": {}
      },
      "source": [
        "# Your answer here"
      ],
      "execution_count": null,
      "outputs": []
    },
    {
      "cell_type": "markdown",
      "metadata": {
        "id": "wAcpfMcrjOwg",
        "colab_type": "text"
      },
      "source": [
        "## Slicing NumPy arrays\n",
        "\n",
        "We can also select a subset of array by slicing (which also uses square brackets, as well as colons `:`)"
      ]
    },
    {
      "cell_type": "code",
      "metadata": {
        "id": "2QA2a_BNjOMX",
        "colab_type": "code",
        "colab": {}
      },
      "source": [
        "array_2d[0:2,2]"
      ],
      "execution_count": null,
      "outputs": []
    },
    {
      "cell_type": "code",
      "metadata": {
        "id": "ZUdI0RzZjJTf",
        "colab_type": "code",
        "colab": {}
      },
      "source": [
        "array_2d[0:2,1:]"
      ],
      "execution_count": null,
      "outputs": []
    },
    {
      "cell_type": "markdown",
      "metadata": {
        "id": "6OnVhvy3jIT0",
        "colab_type": "text"
      },
      "source": [
        "# Pandas\n",
        "\n",
        "Pandas is a library that allows us to store data in tables called **dataframes**.\n",
        "\n",
        "How is this different from a 2D array in NumPy?\n",
        "\n",
        "*   A Pandas dataframe allows us to have things like column names\n",
        "*   A NumPy array needs to have the same type of data in the entire array (e.g. just integers, or just decimals). However a Pandas dataframe can have a different type of data in each column.\n",
        "\n",
        "By convention we import the `pandas` library as the abbreviation `pd`"
      ]
    },
    {
      "cell_type": "code",
      "metadata": {
        "id": "32x6gqOVkb0A",
        "colab_type": "code",
        "colab": {}
      },
      "source": [
        "import pandas as pd"
      ],
      "execution_count": null,
      "outputs": []
    },
    {
      "cell_type": "code",
      "metadata": {
        "id": "O939hfXFk0oA",
        "colab_type": "code",
        "colab": {}
      },
      "source": [
        "# Create a dataframe from a numpy array\n",
        "\n",
        "pd.DataFrame(lol)"
      ],
      "execution_count": null,
      "outputs": []
    },
    {
      "cell_type": "code",
      "metadata": {
        "id": "j20oFSilk97d",
        "colab_type": "code",
        "colab": {}
      },
      "source": [
        "# We can specify column names:\n",
        "\n",
        "df = pd.DataFrame(lol, columns = [\"A\", \"B\", \"C\"])\n",
        "\n",
        "df"
      ],
      "execution_count": null,
      "outputs": []
    },
    {
      "cell_type": "code",
      "metadata": {
        "id": "gCS5fxGLlSeQ",
        "colab_type": "code",
        "colab": {}
      },
      "source": [
        "# Dataframes can be converted back to numpy arrays\n",
        "df.to_numpy()"
      ],
      "execution_count": null,
      "outputs": []
    },
    {
      "cell_type": "markdown",
      "metadata": {
        "id": "LkV3QtIWldTg",
        "colab_type": "text"
      },
      "source": [
        "Once we have a dataframe, we can do a lot of useful things with it:"
      ]
    },
    {
      "cell_type": "code",
      "metadata": {
        "id": "F4t_463wlkfr",
        "colab_type": "code",
        "colab": {}
      },
      "source": [
        "df.describe()"
      ],
      "execution_count": null,
      "outputs": []
    },
    {
      "cell_type": "code",
      "metadata": {
        "id": "3G-bQ0oKlrCb",
        "colab_type": "code",
        "colab": {}
      },
      "source": [
        "df.plot(x = \"A\", y = \"B\", kind = \"scatter\")"
      ],
      "execution_count": null,
      "outputs": []
    },
    {
      "cell_type": "markdown",
      "metadata": {
        "id": "2ZYy_hC3l1m1",
        "colab_type": "text"
      },
      "source": [
        "## Indexing and slicing Pandas dataframes\n",
        "\n",
        "There are two ways to select data from a Pandas dataframe:\n",
        "\n",
        "* by index (i.e. the number of the row and column)\n",
        "\n",
        "* by label (i.e. the name of the row and column)"
      ]
    },
    {
      "cell_type": "code",
      "metadata": {
        "id": "v8rSCclpmJAt",
        "colab_type": "code",
        "colab": {}
      },
      "source": [
        "# Label based selection\n",
        "# Note that we need the row first, then the column\n",
        "df.loc[:,\"A\"]"
      ],
      "execution_count": null,
      "outputs": []
    },
    {
      "cell_type": "code",
      "metadata": {
        "id": "K8UQJBYame4H",
        "colab_type": "code",
        "colab": {}
      },
      "source": [
        "# Index based selection\n",
        "df.iloc[:,0]"
      ],
      "execution_count": null,
      "outputs": []
    },
    {
      "cell_type": "markdown",
      "metadata": {
        "id": "6AGfog7BmwOH",
        "colab_type": "text"
      },
      "source": [
        "We can also get one or more columns more simply:"
      ]
    },
    {
      "cell_type": "code",
      "metadata": {
        "id": "5Y71fQN3mvps",
        "colab_type": "code",
        "colab": {}
      },
      "source": [
        "df[\"A\"]"
      ],
      "execution_count": null,
      "outputs": []
    },
    {
      "cell_type": "code",
      "metadata": {
        "id": "9KhY6HgQm2e2",
        "colab_type": "code",
        "colab": {}
      },
      "source": [
        "df[[\"A\", \"C\"]]"
      ],
      "execution_count": null,
      "outputs": []
    },
    {
      "cell_type": "markdown",
      "metadata": {
        "id": "DAhwnZ9Ho7c6",
        "colab_type": "text"
      },
      "source": [
        "We can also do things like fill in missing data:"
      ]
    },
    {
      "cell_type": "code",
      "metadata": {
        "id": "CNT2KEzrpCZD",
        "colab_type": "code",
        "colab": {}
      },
      "source": [
        "missing = pd.DataFrame(\n",
        "    {\"x1\": [4,8,np.nan, 5],\n",
        "     \"x2\": [0.543, np.nan, 0.213, 0.65]}\n",
        ")\n",
        "\n",
        "missing"
      ],
      "execution_count": null,
      "outputs": []
    },
    {
      "cell_type": "code",
      "metadata": {
        "id": "kSa4zTImqAxF",
        "colab_type": "code",
        "colab": {}
      },
      "source": [
        "# Replace missing values with a particular value, e.g. 0\n",
        "missing.fillna(0)"
      ],
      "execution_count": null,
      "outputs": []
    },
    {
      "cell_type": "code",
      "metadata": {
        "id": "HQbjx-0_pplg",
        "colab_type": "code",
        "colab": {}
      },
      "source": [
        "# Fill with a particular value for \n",
        "\n",
        "missing.fillna(missing.median())"
      ],
      "execution_count": null,
      "outputs": []
    },
    {
      "cell_type": "markdown",
      "metadata": {
        "id": "VTKoYeEIqnRe",
        "colab_type": "text"
      },
      "source": [
        ""
      ]
    },
    {
      "cell_type": "markdown",
      "metadata": {
        "id": "9bvk27pHqQ12",
        "colab_type": "text"
      },
      "source": [
        "#### Exercises\n",
        "\n",
        "i. What is the result of running `missing.median()` by itself?\n",
        "\n",
        "ii. How do you think you could fill the missing values in `missing` with the mean instead of the median?"
      ]
    },
    {
      "cell_type": "markdown",
      "metadata": {
        "id": "z8tfvZZ5r9gA",
        "colab_type": "text"
      },
      "source": [
        "# Scikit-learn\n",
        "\n",
        "Scikit-learn is *the* Python library for doing machine learning.\n",
        "\n",
        "It includes a lot of tools for processing data, as well as all the most common models that we want to use for making predictions."
      ]
    },
    {
      "cell_type": "markdown",
      "metadata": {
        "id": "cwyOIrIus596",
        "colab_type": "text"
      },
      "source": [
        "Most of the tools in `sklearn` are classes, and they implement a similar set of methods.\n",
        "\n",
        "For example, the classes for models (e.g. linear regression or random forests) are referred to as *estimators*, which means they have a `fit()` method and a `predict()` method."
      ]
    },
    {
      "cell_type": "code",
      "metadata": {
        "id": "f2cw7YUGvl9S",
        "colab_type": "code",
        "colab": {}
      },
      "source": [
        "# Here we import the built-in iris dataset.\n",
        "from sklearn import datasets\n",
        "iris = datasets.load_iris()\n",
        "\n",
        "iris.keys()"
      ],
      "execution_count": null,
      "outputs": []
    },
    {
      "cell_type": "code",
      "metadata": {
        "id": "H0GrrY3evqms",
        "colab_type": "code",
        "colab": {}
      },
      "source": [
        "# The target (response variable, i.e. y) is in the target object\n",
        "\n",
        "# The features (explanatory variables) are in the data object\n",
        "iris.data"
      ],
      "execution_count": null,
      "outputs": []
    },
    {
      "cell_type": "code",
      "metadata": {
        "id": "hQF9c-7HtsoD",
        "colab_type": "code",
        "colab": {}
      },
      "source": [
        "# Then we import a classification model, in this case a random forest.\n",
        "from sklearn.ensemble import RandomForestClassifier\n",
        "\n",
        "# First we have to create an instance of the class.\n",
        "# At this point we could set parameters like the number of trees in the forest.\n",
        "rf = RandomForestClassifier()\n",
        "\n",
        "# Then we train the random forest on the training data using the fit() method\n",
        "rf.fit(iris.data, iris.target)"
      ],
      "execution_count": null,
      "outputs": []
    },
    {
      "cell_type": "code",
      "metadata": {
        "id": "NNK6BS5ru-oZ",
        "colab_type": "code",
        "colab": {}
      },
      "source": [
        "# Information about the best model is now stored in rf\n",
        "print(iris.feature_names)\n",
        "print(rf.feature_importances_)"
      ],
      "execution_count": null,
      "outputs": []
    },
    {
      "cell_type": "code",
      "metadata": {
        "id": "gzCfZ2MQwjZ1",
        "colab_type": "code",
        "colab": {}
      },
      "source": [
        "# We can make predictions using this best model:\n",
        "\n",
        "rf.predict(iris.data)"
      ],
      "execution_count": null,
      "outputs": []
    },
    {
      "cell_type": "markdown",
      "metadata": {
        "id": "nzrHhLGJyDYX",
        "colab_type": "text"
      },
      "source": [
        "## Dividing our data into training and test sets\n",
        "\n",
        "`sklearn` has a convenient function to randomly divide the data for us: `train_test_split`"
      ]
    },
    {
      "cell_type": "code",
      "metadata": {
        "id": "B9zsKVn_vQ0s",
        "colab_type": "code",
        "colab": {}
      },
      "source": [
        "from sklearn.model_selection import train_test_split\n",
        "\n",
        "X_train, X_test, y_train, y_test = train_test_split(iris.data, iris.target, test_size = 0.2)"
      ],
      "execution_count": null,
      "outputs": []
    },
    {
      "cell_type": "markdown",
      "metadata": {
        "id": "G_fXzsKLy7BC",
        "colab_type": "text"
      },
      "source": [
        "## Cross validating models to find the optimum hyperparameter settings\n",
        "\n",
        "Hyperparameters are parameters of the algorithm that the model cannot learn by itself.\n",
        "\n",
        "For example, random forests can find a good set of random trees, but it cannot determine *how many* trees to create.\n",
        "\n",
        "The number of trees is a hyperparameter. How do we find the optimal number of trees?"
      ]
    },
    {
      "cell_type": "code",
      "metadata": {
        "id": "puTOIlWUzXdw",
        "colab_type": "code",
        "colab": {}
      },
      "source": [
        "# Option 1\n",
        "# Run cross-validation yourself with the cross_validate function\n",
        "\n",
        "from sklearn.model_selection import cross_validate\n",
        "\n",
        "rf = RandomForestClassifier(n_estimators=5)\n",
        "scores = cross_validate(rf, X_train, y_train, cv = 5)\n",
        "print(\"Scores:\", scores)\n",
        "print(\"Average CV score: \", scores['test_score'].mean())"
      ],
      "execution_count": null,
      "outputs": []
    },
    {
      "cell_type": "code",
      "metadata": {
        "id": "1vkRAhoa0btG",
        "colab_type": "code",
        "colab": {}
      },
      "source": [
        "# ... and then try with a different number of trees\n",
        "\n",
        "rf = RandomForestClassifier(n_estimators=50)\n",
        "scores = cross_validate(rf, X_train, y_train, cv = 5)\n",
        "\n",
        "print(\"Scores:\", scores)\n",
        "print(\"Average CV score: \", scores['test_score'].mean())"
      ],
      "execution_count": null,
      "outputs": []
    },
    {
      "cell_type": "markdown",
      "metadata": {
        "id": "oHLSmANx1mdB",
        "colab_type": "text"
      },
      "source": [
        "Alternatively we can automatically search for the best values for a hyperparameter:"
      ]
    },
    {
      "cell_type": "code",
      "metadata": {
        "id": "R434ZnEV1l2p",
        "colab_type": "code",
        "colab": {}
      },
      "source": [
        "# Option 2\n",
        "# Automatically search for the best values of hyperparamters\n",
        "\n",
        "from sklearn.model_selection import GridSearchCV\n",
        "\n",
        "rf = RandomForestClassifier()\n",
        "parameter_grid = {\"n_estimators\": [1,3,5,10,20], \"max_depth\": [1, 2, 3, None]}\n",
        "\n",
        "grid_search = GridSearchCV(rf, parameter_grid, cv = 5)\n",
        "\n",
        "grid_search.fit(X_train, y_train)\n",
        "\n",
        "print(\"Best parameters:\", grid_search.best_params_)\n",
        "print(\"Best cross-validation score:\", grid_search.best_score_)"
      ],
      "execution_count": null,
      "outputs": []
    },
    {
      "cell_type": "markdown",
      "metadata": {
        "id": "fTQdwVBe4Q7_",
        "colab_type": "text"
      },
      "source": [
        "Finally, once we have our best combination of hyperparameters, we want to make predictions on the test set and see how well we do:"
      ]
    },
    {
      "cell_type": "code",
      "metadata": {
        "id": "KD3r3K6W4Oxt",
        "colab_type": "code",
        "colab": {}
      },
      "source": [
        "# The grid_search saves the best model\n",
        "# We can use the score method to make predictions and assess them.\n",
        "\n",
        "grid_search.best_estimator_.score(X_test, y_test)"
      ],
      "execution_count": null,
      "outputs": []
    },
    {
      "cell_type": "markdown",
      "metadata": {
        "id": "pN2ap4jQ4FDp",
        "colab_type": "text"
      },
      "source": [
        "#### Exercises\n",
        "\n",
        "Try some other classification models on the `iris` data. Can you do better than the Random Forest model?\n",
        "\n",
        "Here are several other classification algorithms, and their important hyperparameters that you can tune:\n",
        "\n",
        "* [K-Nearest Neaighbors (KNN)](https://scikit-learn.org/stable/modules/generated/sklearn.neighbors.KNeighborsClassifier.html#sklearn.neighbors.KNeighborsClassifier)\n",
        "    * Number of neighbors is a hyparameter you will need to tune\n",
        "* [Logistic regression](https://scikit-learn.org/stable/modules/generated/sklearn.linear_model.LogisticRegression.html#sklearn.linear_model.LogisticRegression)\n",
        "    * Try varying the C hyperparameter and the `penalty` hyperparameter for different strengths and types of regularization respectively.\n",
        "* [Support Vector Machine (SVM)](https://scikit-learn.org/stable/modules/generated/sklearn.svm.SVC.html#sklearn.svm.SVC)\n",
        "    * Vary the C parameter to change the strength of regularization."
      ]
    }
  ]
}