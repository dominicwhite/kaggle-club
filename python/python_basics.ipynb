{
  "nbformat": 4,
  "nbformat_minor": 0,
  "metadata": {
    "orig_nbformat": 2,
    "colab": {
      "name": "python_basics.ipynb",
      "provenance": []
    },
    "kernelspec": {
      "name": "python3",
      "display_name": "Python 3"
    }
  },
  "cells": [
    {
      "cell_type": "markdown",
      "metadata": {
        "id": "HDipx_zNcyFc",
        "colab_type": "text"
      },
      "source": [
        "# Introduction to Python\n",
        "\n",
        "So you want to learn Python? Good choice!\n",
        "\n",
        "This notebook will lead you through some of the basics of programming in **Python 3**.\n",
        "\n",
        "It includes many references to the (freely available) online book [Think Python](https://greenteapress.com/wp/think-python-2e/) by Allen Downey."
      ]
    },
    {
      "cell_type": "markdown",
      "metadata": {
        "id": "PxNhJbU3cyFk",
        "colab_type": "text"
      },
      "source": [
        "## The basics of a computer program\n",
        "\n",
        "Programs are made up of (1) data and (2) operations on that data.\n",
        "\n",
        "You can think of it like a cooking recipe, which has ingredients and steps that do things to those ingredients.\n",
        "\n",
        "For example, consider this very simple program:\n",
        "\n",
        "(you can run the cell below by clicking the play button next to it, or by clicking within the cell and pressing `Ctrl + Enter`)"
      ]
    },
    {
      "cell_type": "code",
      "metadata": {
        "id": "4Mjoz23RcyFm",
        "colab_type": "code",
        "colab": {}
      },
      "source": [
        "1 + 1"
      ],
      "execution_count": 0,
      "outputs": []
    },
    {
      "cell_type": "markdown",
      "metadata": {
        "id": "86ci_8t4cyFy",
        "colab_type": "text"
      },
      "source": [
        "The cell above adds (the operation) two numbers (the data).\n",
        "\n",
        "There are all kinds of arithmetic that we can do using Python. For example, see if you can figure out what the following cells are doing:"
      ]
    },
    {
      "cell_type": "code",
      "metadata": {
        "id": "AoJf7c6ycyF1",
        "colab_type": "code",
        "colab": {}
      },
      "source": [
        "43 - 1"
      ],
      "execution_count": 0,
      "outputs": []
    },
    {
      "cell_type": "code",
      "metadata": {
        "id": "tgHw1VeUcyF8",
        "colab_type": "code",
        "colab": {}
      },
      "source": [
        "6 * 7"
      ],
      "execution_count": 0,
      "outputs": []
    },
    {
      "cell_type": "code",
      "metadata": {
        "id": "T_XQWxXucyGD",
        "colab_type": "code",
        "colab": {}
      },
      "source": [
        "84 / 2"
      ],
      "execution_count": 0,
      "outputs": []
    },
    {
      "cell_type": "markdown",
      "metadata": {
        "id": "hZMj6eMTc-HJ",
        "colab_type": "text"
      },
      "source": [
        "You will note that the third expression returns a decimal, even though the original inputs were both integers (whole numbers). Let's take a look at why.\n",
        "\n",
        "We can ask Python to tell us the difference between these two types of data using `type()`:"
      ]
    },
    {
      "cell_type": "code",
      "metadata": {
        "id": "SKz7-u2neKaZ",
        "colab_type": "code",
        "colab": {}
      },
      "source": [
        "type(42)"
      ],
      "execution_count": 0,
      "outputs": []
    },
    {
      "cell_type": "code",
      "metadata": {
        "id": "U1_I1DBFeM1b",
        "colab_type": "code",
        "colab": {}
      },
      "source": [
        "type(42.0)"
      ],
      "execution_count": 0,
      "outputs": []
    },
    {
      "cell_type": "markdown",
      "metadata": {
        "id": "e-CYQL9Jc7b2",
        "colab_type": "text"
      },
      "source": [
        "`int` stands for integer, whereas float stands for floating-point number (i.e. a decimal number).\n",
        "\n",
        "(Python distinguishes between them because it takes more memory to store a `float` than an `int`, and because integers can be more precise)."
      ]
    },
    {
      "cell_type": "markdown",
      "metadata": {
        "id": "lRlQiOZweuQJ",
        "colab_type": "text"
      },
      "source": [
        "There's another type of data that we often want to use: **strings**, which are a series of letters strung together.\n",
        "\n",
        "We indicate that something is a string by putting it between quotation marks:"
      ]
    },
    {
      "cell_type": "code",
      "metadata": {
        "id": "CaXw2Z9XetpZ",
        "colab_type": "code",
        "colab": {}
      },
      "source": [
        "\"hello\""
      ],
      "execution_count": 0,
      "outputs": []
    },
    {
      "cell_type": "code",
      "metadata": {
        "id": "MmVLMr5oepuM",
        "colab_type": "code",
        "colab": {}
      },
      "source": [
        "type(\"hello\")"
      ],
      "execution_count": 0,
      "outputs": []
    },
    {
      "cell_type": "markdown",
      "metadata": {
        "id": "5Swiz3rHfY_3",
        "colab_type": "text"
      },
      "source": [
        "**Exercise**\n",
        "\n",
        "What are the types of `\"42.0\"` and `\"42\"` ?"
      ]
    },
    {
      "cell_type": "code",
      "metadata": {
        "id": "XVNLKogyfpXZ",
        "colab_type": "code",
        "colab": {}
      },
      "source": [
        "# Use this cell for your answer"
      ],
      "execution_count": 0,
      "outputs": []
    },
    {
      "cell_type": "markdown",
      "metadata": {
        "id": "jpJIIu7DfveA",
        "colab_type": "text"
      },
      "source": [
        "## Variables\n",
        "\n",
        "When we run a line of code like\n",
        "\n",
        "`2 + 2`\n",
        "\n",
        "the expression is evaluated and displayed, but the result of the evaluation is then discarded.\n",
        "\n",
        "However, we often want to save the result of some code, so that we can use it in the future.\n",
        "\n",
        "To do that, we need to **assign** it to a **variable**."
      ]
    },
    {
      "cell_type": "code",
      "metadata": {
        "id": "AirBd4vVftJD",
        "colab_type": "code",
        "colab": {}
      },
      "source": [
        "a = 1 + 1"
      ],
      "execution_count": 0,
      "outputs": []
    },
    {
      "cell_type": "markdown",
      "metadata": {
        "id": "4_Qi6oPChz2l",
        "colab_type": "text"
      },
      "source": [
        "You will note that there is no output when you run the above cell. Assignment does not produce any output in Python - instead, the expression on the right hand side is evaluated, and then the result is stored in the variable of the left-hand side.\n",
        "\n",
        "We can then use the variable `a` again:"
      ]
    },
    {
      "cell_type": "code",
      "metadata": {
        "id": "bxD5SoKkhy3a",
        "colab_type": "code",
        "colab": {}
      },
      "source": [
        "a"
      ],
      "execution_count": 0,
      "outputs": []
    },
    {
      "cell_type": "code",
      "metadata": {
        "id": "wyEqoN58iTrh",
        "colab_type": "code",
        "colab": {}
      },
      "source": [
        "a + 1"
      ],
      "execution_count": 0,
      "outputs": []
    },
    {
      "cell_type": "code",
      "metadata": {
        "id": "UgQD9qOriU9n",
        "colab_type": "code",
        "colab": {}
      },
      "source": [
        "b = a + 2"
      ],
      "execution_count": 0,
      "outputs": []
    },
    {
      "cell_type": "markdown",
      "metadata": {
        "id": "-dY44z6WibNb",
        "colab_type": "text"
      },
      "source": [
        "What is the value stored in the variable b? (What type does it have?)"
      ]
    },
    {
      "cell_type": "markdown",
      "metadata": {
        "id": "iGnHXLfPimS5",
        "colab_type": "text"
      },
      "source": [
        "### Recommended reading on Variables:\n",
        "\n",
        "* [Think Python, Chapter 2](http://greenteapress.com/thinkpython2/html/thinkpython2003.html)"
      ]
    },
    {
      "cell_type": "markdown",
      "metadata": {
        "id": "WT0TJL6hi0L-",
        "colab_type": "text"
      },
      "source": [
        "## Functions\n",
        "\n",
        "Sometimes we want to rerun the same procedure more than once.\n",
        "\n",
        "Instead of having to write each line of code once, we can store the procedure as a **function** and then *call* the function whenever we want to do those operations.\n",
        "\n",
        "We have already used one function: `type()` "
      ]
    },
    {
      "cell_type": "code",
      "metadata": {
        "id": "z4krdTbTjk5E",
        "colab_type": "code",
        "colab": {}
      },
      "source": [
        "type(42)"
      ],
      "execution_count": 0,
      "outputs": []
    },
    {
      "cell_type": "markdown",
      "metadata": {
        "id": "5benhoEwjxIy",
        "colab_type": "text"
      },
      "source": [
        "The name of the function is `type`\n",
        "\n",
        "To call the function, we write its name followed by parentheses. Any inputs to the function are placed inside the parentheses.\n",
        "\n",
        "*   The inputs are called **arguments**\n",
        "*   The result of the function is called the **return value**\n",
        "\n",
        "We can use functions to convert data from one type to another:"
      ]
    },
    {
      "cell_type": "code",
      "metadata": {
        "id": "9B2C0Xq6k9v2",
        "colab_type": "code",
        "colab": {}
      },
      "source": [
        "float(42)"
      ],
      "execution_count": 0,
      "outputs": []
    },
    {
      "cell_type": "code",
      "metadata": {
        "id": "4yK5DdS9kkHI",
        "colab_type": "code",
        "colab": {}
      },
      "source": [
        "str(42)"
      ],
      "execution_count": 0,
      "outputs": []
    },
    {
      "cell_type": "markdown",
      "metadata": {
        "id": "xeDAH7unkrFH",
        "colab_type": "text"
      },
      "source": [
        "**Exercises**\n",
        "\n",
        "What happens if you convert `42.3` (i.e. a float) to an integer?\n",
        "\n",
        "What happens if you convert the string `\"hello\"` to an integer?"
      ]
    },
    {
      "cell_type": "markdown",
      "metadata": {
        "id": "zUmYKb6zlF21",
        "colab_type": "text"
      },
      "source": [
        "### Creating functions\n",
        "\n",
        "We can actually write our own functions!\n",
        "\n",
        "A **function definition** specifies the arguments that the functions accepts, what operations will be done inside the function, and then (optionally) a return value.\n",
        "\n",
        "```python\n",
        "def say_hello():\n",
        "    print(\"hello\")\n",
        "```\n",
        "\n",
        "**Exercise**\n",
        "\n",
        "Write this `say_hello` function definition out in the code cell below, and run the cell to define it (optionally, you can also try to call the function *before you have defined it...*)"
      ]
    },
    {
      "cell_type": "code",
      "metadata": {
        "id": "pPHDhop_mobr",
        "colab_type": "code",
        "colab": {}
      },
      "source": [
        "# Write function definition here\n",
        "def say_hello():\n",
        "    print(\"hello\")"
      ],
      "execution_count": 0,
      "outputs": []
    },
    {
      "cell_type": "code",
      "metadata": {
        "id": "gGuwBAGSmo0-",
        "colab_type": "code",
        "colab": {}
      },
      "source": [
        "# Try calling the function to see what happens\n",
        "say_hello()"
      ],
      "execution_count": 0,
      "outputs": []
    },
    {
      "cell_type": "markdown",
      "metadata": {
        "id": "HArX30pYmxXf",
        "colab_type": "text"
      },
      "source": [
        "The `def` keyword indicates the start of the function definition. It is followed by the name of the function, and then parentheses stating the arguments that the function will take.\n",
        "\n",
        "The code inside the function (the **body** of the function) is indented by four spaces. There can be as many lines inside the function as you like, but each one must be indented by four spaces to indicate that it is part of the function body.\n",
        "\n",
        "```python\n",
        "def function_name(argument_1, argument_2):\n",
        "    a3 = argument_1 + argument_2  # a line of code\n",
        "    a4 = a3 / 10                  # another line\n",
        "    return some_value\n",
        "```"
      ]
    },
    {
      "cell_type": "markdown",
      "metadata": {
        "id": "2V52CzUOoJGb",
        "colab_type": "text"
      },
      "source": [
        "**Exercises**\n",
        "\n",
        "* What happens if you call a function name without the parentheses, e.g. just `type` or `say_hello` ?\n",
        "\n",
        "* What is the `type` of a function? E.g. what is `type(say_hello)` ?\n",
        "\n",
        "* If you assign the result of a function without a specified return value (e.g. `say_hello`) to a variable, what will be stored in the variable?"
      ]
    },
    {
      "cell_type": "markdown",
      "metadata": {
        "id": "9hYuAd0ppN_4",
        "colab_type": "text"
      },
      "source": [
        "#### Recommended reading on Functions\n",
        "\n",
        "We have only brushed the surface of functions.\n",
        "\n",
        "For a more detailed version of this tutorial, take a look at:\n",
        "\n",
        "* [Think Python, Chapter 3: Functions](http://greenteapress.com/thinkpython2/html/thinkpython2004.html)\n",
        "\n",
        "* For much more detail, see the official Python tutorial's section on [defining functions](https://docs.python.org/3/tutorial/controlflow.html#defining-functions)"
      ]
    },
    {
      "cell_type": "markdown",
      "metadata": {
        "id": "udKQS1qEuWHF",
        "colab_type": "text"
      },
      "source": [
        "**Intermediate function topics**\n",
        "\n",
        "* Non-fixed numbers of arguments in a function: https://www.linuxtopia.org/online_books/programming_books/python_programming/python_ch15s09.html\n",
        "\n",
        "* Scope of variables inside and outside of functions: https://python-textbok.readthedocs.io/en/1.0/Variables_and_Scope.html\n",
        "\n",
        "**Advanced function topics**\n",
        "\n",
        "* Lambda (i.e. 1-line) functions: https://stackabuse.com/lambda-functions-in-python/\n",
        "\n",
        "* Decorators: https://realpython.com/primer-on-python-decorators/"
      ]
    },
    {
      "cell_type": "markdown",
      "metadata": {
        "id": "xh9TCBZmnD2o",
        "colab_type": "text"
      },
      "source": [
        "## Control flow\n",
        "\n",
        "Python runs code one line at a time. After is has finished running one line it moves onto the next line.\n",
        "\n",
        "Functions are one way of jumping out of sequence: when we call a function, the program jumps to the first line of code in the function body (which could be earlier in the same file, or in a different file entirely).\n",
        "\n",
        "We can also pick paths for our program to go down at certain points using **conditional statements**.\n",
        "\n",
        "But first we need to learn about boolean data."
      ]
    },
    {
      "cell_type": "markdown",
      "metadata": {
        "id": "vKHoHYX-wo6Z",
        "colab_type": "text"
      },
      "source": [
        "### Boolean data\n",
        "\n",
        "There is another data type that we have not yet enountered, called the **boolean** type, which can have two possible values: `True` or `False`"
      ]
    },
    {
      "cell_type": "code",
      "metadata": {
        "id": "5H4T-6SKxCTG",
        "colab_type": "code",
        "colab": {}
      },
      "source": [
        "True"
      ],
      "execution_count": 0,
      "outputs": []
    },
    {
      "cell_type": "code",
      "metadata": {
        "id": "QZvdFsV4xFik",
        "colab_type": "code",
        "colab": {}
      },
      "source": [
        "c = True\n",
        "type(c)"
      ],
      "execution_count": 0,
      "outputs": []
    },
    {
      "cell_type": "markdown",
      "metadata": {
        "id": "tsVHKCY2xMAQ",
        "colab_type": "text"
      },
      "source": [
        "We often get a boolean value when we compare two other pieces of data using **relational operators**.\n",
        "\n",
        "For example, we can compare two variables to see if they are equal:\n",
        "\n",
        "```python\n",
        "a == b\n",
        "```\n",
        "\n",
        "or to see if one is greater than the other:\n",
        "\n",
        "```python\n",
        "a > b\n",
        "```"
      ]
    },
    {
      "cell_type": "code",
      "metadata": {
        "id": "rZMSP6irxklv",
        "colab_type": "code",
        "colab": {}
      },
      "source": [
        "a > b"
      ],
      "execution_count": 0,
      "outputs": []
    },
    {
      "cell_type": "markdown",
      "metadata": {
        "id": "cXHNOXLHxnv4",
        "colab_type": "text"
      },
      "source": [
        "**Exercise**\n",
        "\n",
        "Experiment with different values and variables and see if you can figure out what these relational operators do:\n",
        "\n",
        "* `!=`\n",
        "* `>=`"
      ]
    },
    {
      "cell_type": "markdown",
      "metadata": {
        "id": "8iz5fz5cyDTY",
        "colab_type": "text"
      },
      "source": [
        "There are also 3 **logical operators** which allow us to combine boolean values: \n",
        "\n",
        "* `and` (True if both are True)\n",
        "* `or`  (True if either is True)\n",
        "* `not` (flips the boolean value"
      ]
    },
    {
      "cell_type": "code",
      "metadata": {
        "id": "WR269lPuyTZR",
        "colab_type": "code",
        "colab": {}
      },
      "source": [
        "True and False"
      ],
      "execution_count": 0,
      "outputs": []
    },
    {
      "cell_type": "code",
      "metadata": {
        "id": "AQmf1lK-ye31",
        "colab_type": "code",
        "colab": {}
      },
      "source": [
        "True or False"
      ],
      "execution_count": 0,
      "outputs": []
    },
    {
      "cell_type": "code",
      "metadata": {
        "id": "tesPgh07yzM5",
        "colab_type": "code",
        "colab": {}
      },
      "source": [
        "not True"
      ],
      "execution_count": 0,
      "outputs": []
    },
    {
      "cell_type": "code",
      "metadata": {
        "id": "NBPoiCY_y2gp",
        "colab_type": "code",
        "colab": {}
      },
      "source": [
        "not False and True"
      ],
      "execution_count": 0,
      "outputs": []
    },
    {
      "cell_type": "markdown",
      "metadata": {
        "id": "4hpRVJM5y96S",
        "colab_type": "text"
      },
      "source": [
        "We can combine relational and logical operators to test for multiple things to be True or False:"
      ]
    },
    {
      "cell_type": "code",
      "metadata": {
        "id": "tzjqk2wqzG9E",
        "colab_type": "code",
        "colab": {}
      },
      "source": [
        "(42 > 30) and (type(\"hello\") == str)"
      ],
      "execution_count": 0,
      "outputs": []
    },
    {
      "cell_type": "markdown",
      "metadata": {
        "id": "UhpJ4TW4zq3l",
        "colab_type": "text"
      },
      "source": [
        "### Conditional Statements\n",
        "\n",
        "We can use the `if` keyword to evaluate certain lines based on the truth-iness of boolean expressions:\n",
        "\n",
        "```python\n",
        "if x > 0:\n",
        "   print(\"x is positive\")\n",
        "```\n",
        "\n",
        "Note that the condition (`x > 0` is followed by a colon, `:`), and the body is indented (just like in a function).\n",
        "\n",
        "Try varying the value of x is the following code chunk to see what happens:"
      ]
    },
    {
      "cell_type": "code",
      "metadata": {
        "id": "DKO2ubKq0-Ca",
        "colab_type": "code",
        "colab": {}
      },
      "source": [
        "x = 1\n",
        "\n",
        "if x > 0:\n",
        "    print(\"x is positive\")"
      ],
      "execution_count": 0,
      "outputs": []
    },
    {
      "cell_type": "markdown",
      "metadata": {
        "id": "xspUJGPA1Ya5",
        "colab_type": "text"
      },
      "source": [
        "We can also execute a different line if the condition is False:\n",
        "\n",
        "\n",
        "```python\n",
        "if x > 0:\n",
        "    print(\"x is positive\")\n",
        "else:\n",
        "    print(\"x is negative\")\n",
        "```\n",
        "\n",
        "Try varying x again:"
      ]
    },
    {
      "cell_type": "code",
      "metadata": {
        "id": "CsoPy0IA1v2c",
        "colab_type": "code",
        "colab": {}
      },
      "source": [
        "x = 1\n",
        "\n",
        "if x > 0:\n",
        "    print(\"x is positive\")\n",
        "else:\n",
        "    print(\"x is negative\")"
      ],
      "execution_count": 0,
      "outputs": []
    },
    {
      "cell_type": "markdown",
      "metadata": {
        "id": "SfspV6Lc16G5",
        "colab_type": "text"
      },
      "source": [
        "Finally we can chain multiple conditionals using the `elif` keyword:"
      ]
    },
    {
      "cell_type": "code",
      "metadata": {
        "id": "8nM0LJSE15RQ",
        "colab_type": "code",
        "colab": {}
      },
      "source": [
        "x = 0\n",
        "\n",
        "if x > 0:\n",
        "    print(\"x is positive\")\n",
        "elif x == 0:\n",
        "    print(\"x equals 0\")\n",
        "else:\n",
        "    print(\"x is negative\")"
      ],
      "execution_count": 0,
      "outputs": []
    },
    {
      "cell_type": "markdown",
      "metadata": {
        "id": "VwVhMcVi2mKC",
        "colab_type": "text"
      },
      "source": [
        "## Collections of data, and iteration\n",
        "\n",
        "Python's `int`, `float`, `str`, and `bool` data types each hold a single piece of data.\n",
        "\n",
        "However there are also data types that hold multiple pieces of data."
      ]
    },
    {
      "cell_type": "markdown",
      "metadata": {
        "id": "oSgeVA7B27Ql",
        "colab_type": "text"
      },
      "source": [
        "### Lists\n",
        "\n",
        "A `list` data type is a sequence of items. We create a list using square brackets"
      ]
    },
    {
      "cell_type": "code",
      "metadata": {
        "id": "RHzUJhCM2lUw",
        "colab_type": "code",
        "colab": {}
      },
      "source": [
        "l = [3, \"b\", True]\n",
        "\n",
        "print(l)"
      ],
      "execution_count": 0,
      "outputs": []
    },
    {
      "cell_type": "code",
      "metadata": {
        "id": "OCy9H52t3aro",
        "colab_type": "code",
        "colab": {}
      },
      "source": [
        "type(l)"
      ],
      "execution_count": 0,
      "outputs": []
    },
    {
      "cell_type": "markdown",
      "metadata": {
        "id": "ZjjFoIeB3g7N",
        "colab_type": "text"
      },
      "source": [
        "You can put variables (and even other lists!) inside lists:"
      ]
    },
    {
      "cell_type": "code",
      "metadata": {
        "id": "emzRX1Yf3oE5",
        "colab_type": "code",
        "colab": {}
      },
      "source": [
        "[b, l]"
      ],
      "execution_count": 0,
      "outputs": []
    },
    {
      "cell_type": "markdown",
      "metadata": {
        "id": "xnHifqjO3to5",
        "colab_type": "text"
      },
      "source": [
        "We retrieve values from within lists using **indexing**, again with square brackets after the variable name that holds the list:"
      ]
    },
    {
      "cell_type": "code",
      "metadata": {
        "id": "W61EP09z35BZ",
        "colab_type": "code",
        "colab": {}
      },
      "source": [
        "l[1]"
      ],
      "execution_count": 0,
      "outputs": []
    },
    {
      "cell_type": "markdown",
      "metadata": {
        "id": "6cPHd1Ay38qG",
        "colab_type": "text"
      },
      "source": [
        "You will note that the \"first\" position (index = 1) actually returns the second item in the list `l`.\n",
        "\n",
        "Python is *zero indexed*, which means that the first item has an index of zero:"
      ]
    },
    {
      "cell_type": "code",
      "metadata": {
        "id": "RArIIrlI373d",
        "colab_type": "code",
        "colab": {}
      },
      "source": [
        "l[0]"
      ],
      "execution_count": 0,
      "outputs": []
    },
    {
      "cell_type": "markdown",
      "metadata": {
        "id": "66olqWAV4NrX",
        "colab_type": "text"
      },
      "source": [
        "We can get the length of a list using the `len` function:"
      ]
    },
    {
      "cell_type": "code",
      "metadata": {
        "id": "isdMkmuN4SFS",
        "colab_type": "code",
        "colab": {}
      },
      "source": [
        "len(l)"
      ],
      "execution_count": 0,
      "outputs": []
    },
    {
      "cell_type": "markdown",
      "metadata": {
        "id": "sHYUMyaO4WrR",
        "colab_type": "text"
      },
      "source": [
        "### Loops\n",
        "\n",
        "Sometimes we want to iterate through all the items in a list. In Python there are two main ways to do this:\n",
        "\n",
        "* for loops\n",
        "\n",
        "* while loops"
      ]
    },
    {
      "cell_type": "code",
      "metadata": {
        "id": "piYRF3rb4mAy",
        "colab_type": "code",
        "colab": {}
      },
      "source": [
        "for thing in l:\n",
        "    print(thing)"
      ],
      "execution_count": 0,
      "outputs": []
    },
    {
      "cell_type": "code",
      "metadata": {
        "id": "h8oJMMRZMWj2",
        "colab_type": "code",
        "colab": {}
      },
      "source": [
        "thing"
      ],
      "execution_count": 0,
      "outputs": []
    },
    {
      "cell_type": "code",
      "metadata": {
        "id": "Ra-ZwWMF4tf5",
        "colab_type": "code",
        "colab": {}
      },
      "source": [
        "position = 0\n",
        "while position < len(l):\n",
        "    print(l[position])\n",
        "    position = position + 1"
      ],
      "execution_count": 0,
      "outputs": []
    },
    {
      "cell_type": "markdown",
      "metadata": {
        "id": "c3ky8_5d5EE6",
        "colab_type": "text"
      },
      "source": [
        "**Exercises**\n",
        "\n",
        "Exercise 1 from Chapter 10 of Think Python:\n",
        "\n",
        "Write a function called `nested_sum` that takes a list of lists of integers and adds up the elements from all of the nested lists. For example:\n",
        "\n",
        "```python\n",
        "t = [[1, 2], [3], [4, 5, 6]]\n",
        "nested_sum(t)\n",
        "```\n",
        "\n",
        "> 21\n",
        "\n",
        "Hint: you can put loops inside loops, e.g.\n",
        "\n",
        "```python\n",
        "for inner_list in outer_list:\n",
        "    for item in inner_list:\n",
        "        ...\n",
        "```\n",
        "\n",
        "Note that we have to add an extra 4 spaces of indentation each time..."
      ]
    },
    {
      "cell_type": "markdown",
      "metadata": {
        "id": "BVtfwiJG-amD",
        "colab_type": "text"
      },
      "source": [
        "### Dictionaries\n",
        "\n",
        "Another data structure that can hold multiple pieces of data is a **dictionary**. Whereas a list is a sequence, a dictionary is a mapping.\n",
        "\n",
        "A physical dictionary maps from words to their definitions. A Python dictionary maps from *keys* to *values*.\n",
        "\n",
        "For example:"
      ]
    },
    {
      "cell_type": "code",
      "metadata": {
        "id": "z52PXrlHakUh",
        "colab_type": "code",
        "colab": {}
      },
      "source": [
        "dictionary_1 = {\n",
        "    \"key 1\": \"some value\",\n",
        "     5: True\n",
        "}"
      ],
      "execution_count": 0,
      "outputs": []
    },
    {
      "cell_type": "markdown",
      "metadata": {
        "id": "oY_OgDMbaxrA",
        "colab_type": "text"
      },
      "source": [
        "This dictionary has 2 key-value pairs:\n",
        "\n",
        "* The key `\"key 1\"` maps to the value `\"some value\"`\n",
        "* The key `5` maps to the value `True`\n",
        "\n",
        "Each key can only occur once in a dictionary.\n",
        "\n",
        "However, the value for any key can be a data structure such as a list or even another dictionary, allowing us to store multiple values for any key, e.g."
      ]
    },
    {
      "cell_type": "code",
      "metadata": {
        "id": "m8rakhtwaxPN",
        "colab_type": "code",
        "colab": {}
      },
      "source": [
        "dictionary_2 = {\n",
        "     \"dog\": {\"type\": \"animal\", \"noise\": \"woof\"}, \n",
        "     \"hamster\": \"animal\",\n",
        "     \"cat\": [\"animal\", \"meow\"]\n",
        "     }"
      ],
      "execution_count": 0,
      "outputs": []
    },
    {
      "cell_type": "markdown",
      "metadata": {
        "id": "Mad9u28ibyEc",
        "colab_type": "text"
      },
      "source": [
        "To access the value associated with a particular key, we have to index into the dictionary using that key:"
      ]
    },
    {
      "cell_type": "code",
      "metadata": {
        "id": "8H8-cMhhb6Cj",
        "colab_type": "code",
        "colab": {}
      },
      "source": [
        "dictionary_2[\"hamster\"]"
      ],
      "execution_count": 0,
      "outputs": []
    },
    {
      "cell_type": "markdown",
      "metadata": {
        "id": "5SGWhhh8cGoh",
        "colab_type": "text"
      },
      "source": [
        "If a value is itself a list or a dictionary, we can index multiple times:"
      ]
    },
    {
      "cell_type": "code",
      "metadata": {
        "id": "p54jlvWrcFUc",
        "colab_type": "code",
        "colab": {}
      },
      "source": [
        "dictionary_2[\"dog\"][\"noise\"]"
      ],
      "execution_count": 0,
      "outputs": []
    },
    {
      "cell_type": "code",
      "metadata": {
        "id": "kUhlIFdacSdz",
        "colab_type": "code",
        "colab": {}
      },
      "source": [
        "dictionary_2[\"cat\"][1]"
      ],
      "execution_count": 0,
      "outputs": []
    },
    {
      "cell_type": "markdown",
      "metadata": {
        "id": "nO15bnoq5seL",
        "colab_type": "text"
      },
      "source": [
        "### Further reading\n",
        "\n",
        "* More about lists in [Think Python Chapter 10](http://greenteapress.com/thinkpython2/html/thinkpython2011.html)\n",
        "\n",
        "* And dictionaries in [Chapter 11](http://greenteapress.com/thinkpython2/html/thinkpython2012.html)\n",
        "\n",
        "More on Iteration in [Think Python Chapter 7](http://greenteapress.com/thinkpython2/html/thinkpython2008.html)"
      ]
    },
    {
      "cell_type": "markdown",
      "metadata": {
        "id": "c_waLYM76ZwF",
        "colab_type": "text"
      },
      "source": [
        "## Classes and objects\n",
        "\n",
        "We have talked about data and functions separately.\n",
        "\n",
        "However, there is actually a way to combine the two using something called **classes**.\n",
        "\n",
        "Essentially a class is a way to create a new data type.\n",
        "\n",
        "For example, let's say we want to create an Animal data type.\n",
        "\n",
        "We could do something like this:"
      ]
    },
    {
      "cell_type": "code",
      "metadata": {
        "id": "ePVljDZ66QIS",
        "colab_type": "code",
        "colab": {}
      },
      "source": [
        "class Animal:\n",
        "    pass\n",
        "\n",
        "dog = Animal()"
      ],
      "execution_count": 0,
      "outputs": []
    },
    {
      "cell_type": "markdown",
      "metadata": {
        "id": "sq40BVLh7JTX",
        "colab_type": "text"
      },
      "source": [
        "Animal is a class: essentially it is a blueprint for a new type a data.\n",
        "\n",
        "`dog` is an object: it is an actual instance of an Animal.\n",
        "\n",
        "(A useful analogy is to think of architectural blueprints versus actual buildings)."
      ]
    },
    {
      "cell_type": "code",
      "metadata": {
        "id": "BaNnESCp7E4c",
        "colab_type": "code",
        "colab": {}
      },
      "source": [
        "print(dog)\n",
        "print(type(dog))"
      ],
      "execution_count": 0,
      "outputs": []
    },
    {
      "cell_type": "markdown",
      "metadata": {
        "id": "RGYVcs9L7mGD",
        "colab_type": "text"
      },
      "source": [
        "We can attach functions to classes. When we do this, these functions are called **methods**."
      ]
    },
    {
      "cell_type": "code",
      "metadata": {
        "id": "F8kAOdwp7yQI",
        "colab_type": "code",
        "colab": {}
      },
      "source": [
        "class Animal:\n",
        "    \n",
        "    # note how we have to indent a method by four spaces inside the class\n",
        "    \n",
        "    def make_sound(self): # the first argument of any method is \"self\"\n",
        "        print(\"Woof!\")\n",
        "\n",
        "dog = Animal()"
      ],
      "execution_count": 0,
      "outputs": []
    },
    {
      "cell_type": "markdown",
      "metadata": {
        "id": "tzrHuBtC7vs3",
        "colab_type": "text"
      },
      "source": [
        "Now we can call the method on the dog instance:"
      ]
    },
    {
      "cell_type": "code",
      "metadata": {
        "id": "4MzSV2U48P8p",
        "colab_type": "code",
        "colab": {}
      },
      "source": [
        "# we use a period to access methods on an object:\n",
        "dog.make_sound()"
      ],
      "execution_count": 0,
      "outputs": []
    },
    {
      "cell_type": "markdown",
      "metadata": {
        "id": "iEG_KYoq8usa",
        "colab_type": "text"
      },
      "source": [
        "We can also set the **attributes** of an object (i.e. bits of data attached to the object):"
      ]
    },
    {
      "cell_type": "code",
      "metadata": {
        "id": "LkAl9xUg8dk7",
        "colab_type": "code",
        "colab": {}
      },
      "source": [
        "dog.name = \"Fido\""
      ],
      "execution_count": 0,
      "outputs": []
    },
    {
      "cell_type": "code",
      "metadata": {
        "id": "HfUFriFF82Dj",
        "colab_type": "code",
        "colab": {}
      },
      "source": [
        "print(dog.name)"
      ],
      "execution_count": 0,
      "outputs": []
    },
    {
      "cell_type": "markdown",
      "metadata": {
        "id": "RDYRVgsP9CAq",
        "colab_type": "text"
      },
      "source": [
        "There is a lot more to know about classes and objects than we have covered here. However as everything in Python is an object, they are extremely useful to know about.\n",
        "\n",
        "You can read more in Chapters 15-18 of Think Python."
      ]
    }
  ]
}