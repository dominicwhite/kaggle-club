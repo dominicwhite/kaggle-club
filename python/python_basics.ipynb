{
 "cells": [
  {
   "cell_type": "markdown",
   "metadata": {},
   "source": [
    "# Introduction to Python\n",
    "\n",
    "So you want to learn Python? Good choice!\n",
    "\n",
    "This notebook will lead you through some of the basics of programming in **Python 3**.\n",
    "\n",
    "It includes many references to the (freely available) online book [Think Python](https://greenteapress.com/wp/think-python-2e/) by Allen Downey."
   ]
  },
  {
   "cell_type": "markdown",
   "metadata": {},
   "source": [
    "## The basics of a computer program\n",
    "\n",
    "Programs are made up of (1) data and (2) operations on that data.\n",
    "\n",
    "You can think of it like a cooking recipe, which has ingredients and steps that do things to those ingredients.\n",
    "\n",
    "For example, consider this very simple program:\n",
    "\n",
    "(you can run the cell below by clicking the play button next to it, or by clicking within the cell and pressing `Ctrl + Enter`)"
   ]
  },
  {
   "cell_type": "code",
   "execution_count": null,
   "metadata": {},
   "outputs": [],
   "source": [
    "1 + 1"
   ]
  },
  {
   "cell_type": "markdown",
   "metadata": {},
   "source": [
    "The cell above adds (the operation) two numbers (the data).\n",
    "\n",
    "There are all kinds of arithmetic that we can do using Python. For example, see if you can figure out what the following cells are doing:"
   ]
  },
  {
   "cell_type": "code",
   "execution_count": null,
   "metadata": {},
   "outputs": [],
   "source": [
    "43 - 1"
   ]
  },
  {
   "cell_type": "code",
   "execution_count": null,
   "metadata": {},
   "outputs": [],
   "source": [
    "6 * 7"
   ]
  },
  {
   "cell_type": "code",
   "execution_count": null,
   "metadata": {},
   "outputs": [],
   "source": [
    "84 / 2"
   ]
  }
 ],
 "metadata": {
  "language_info": {
   "codemirror_mode": {
    "name": "ipython",
    "version": 3
   },
   "file_extension": ".py",
   "mimetype": "text/x-python",
   "name": "python",
   "nbconvert_exporter": "python",
   "pygments_lexer": "ipython3",
   "version": 3
  },
  "orig_nbformat": 2
 },
 "nbformat": 4,
 "nbformat_minor": 2
}